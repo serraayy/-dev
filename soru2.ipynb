{
 "cells": [
  {
   "cell_type": "code",
   "execution_count": null,
   "id": "b9824bf9",
   "metadata": {},
   "outputs": [],
   "source": [
    "import pandas as pd\n",
    "import numpy as np\n",
    "\n",
    "dosya_yolu = r\"C:\\Users\\burka\\OneDrive\\Masaüstü\\soru1_2_data (8).xlsx\"\n",
    "veri = pd.read_excel(dosya_yolu, header=None)\n",
    "\n",
    "piksel_verisi = veri.values.flatten()\n",
    "\n",
    "histogram, bin_kenarlari = np.histogram(piksel_verisi, bins=256, range=(0, 256))\n",
    "kdf = histogram.cumsum()\n",
    "\n",
    "kdf_min = kdf.min()\n",
    "\n",
    "kdf_normalize = ((kdf - kdf_min) * 255) / (kdf.max() - kdf_min)\n",
    "kdf_normalize = np.round(kdf_normalize).astype('int')\n",
    "\n",
    "esitlenmis_piksel = kdf_normalize[piksel_verisi]\n",
    "\n",
    "esitlenmis_resim = esitlenmis_piksel.reshape(veri.shape)\n",
    "\n",
    "esitlenmis_df = pd.DataFrame(esitlenmis_resim)\n",
    "\n",
    "print(esitlenmis_df)"
   ]
  }
 ],
 "metadata": {
  "kernelspec": {
   "display_name": "Python 3 (ipykernel)",
   "language": "python",
   "name": "python3"
  },
  "language_info": {
   "codemirror_mode": {
    "name": "ipython",
    "version": 3
   },
   "file_extension": ".py",
   "mimetype": "text/x-python",
   "name": "python",
   "nbconvert_exporter": "python",
   "pygments_lexer": "ipython3",
   "version": "3.10.12"
  }
 },
 "nbformat": 4,
 "nbformat_minor": 5
}

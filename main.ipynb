{
 "cells": [
  {
   "cell_type": "code",
   "execution_count": null,
   "id": "f66c1801",
   "metadata": {},
   "outputs": [],
   "source": [
    "x_verileri = [15, 15, 16, 19, 19, 20, 20, 21, 22, 28, 35, 40, 41, 42, 43, 44, 60, 61, 65]"
   ]
  },
  {
   "cell_type": "code",
   "execution_count": null,
   "id": "feab85bb",
   "metadata": {
    "lines_to_next_cell": 1
   },
   "outputs": [],
   "source": [
    "c1 = 16\n",
    "c2 = 22"
   ]
  },
  {
   "cell_type": "code",
   "execution_count": null,
   "id": "61988afe",
   "metadata": {
    "lines_to_next_cell": 1
   },
   "outputs": [],
   "source": [
    "def manhattan_uzaklik(x, y):\n",
    "    return abs(x - y)"
   ]
  },
  {
   "cell_type": "code",
   "execution_count": null,
   "id": "2902aa89",
   "metadata": {},
   "outputs": [],
   "source": [
    "for i in range(4):\n",
    "    küme1_toplam = 0\n",
    "    küme1_adet = 0\n",
    "    küme2_toplam = 0\n",
    "    küme2_adet = 0\n",
    "\n",
    "    for yaş in x_verileri:\n",
    "        uzaklik1 = manhattan_uzaklik(yaş, c1)\n",
    "        uzaklik2 = manhattan_uzaklik(yaş, c2)\n",
    "\n",
    "        if uzaklik1 < uzaklik2:\n",
    "            küme1_toplam += yaş\n",
    "            küme1_adet += 1\n",
    "        else:\n",
    "            küme2_toplam += yaş\n",
    "            küme2_adet += 1\n",
    "\n",
    "    yeni_c1 = küme1_toplam / küme1_adet if küme1_adet != 0 else c1\n",
    "    yeni_c2 = küme2_toplam / küme2_adet if küme2_adet != 0 else c2\n",
    "\n",
    "    print(f\"Döngü {i+1}:\")\n",
    "    print(\"  x  |  c1   |  c2  | Uzaklık 1 | Uzaklık 2 | En Yakın Küme | Yeni Merkez\")\n",
    "    for yaş in x_verileri:\n",
    "        uzaklik1 = manhattan_uzaklik(yaş, c1)\n",
    "        uzaklik2 = manhattan_uzaklik(yaş, c2)\n",
    "        en_yakin_küme = 'Küme 1' if uzaklik1 < uzaklik2 else 'Küme 2'\n",
    "        yeni_merkez = yeni_c1 if en_yakin_küme == 'Küme 1' else yeni_c2\n",
    "        print(f\"{yaş:^5} | {c1:^8.2f} | {c2:^8.2f} | {uzaklik1:^9.2f} | {uzaklik2:^9.2f} | {en_yakin_küme:^13} | {yeni_merkez:^11.2f}\")\n",
    "\n",
    "    c1, c2 = yeni_c1, yeni_c2\n",
    "    print('=' * 94)"
   ]
  }
 ],
 "metadata": {
  "jupytext": {
   "cell_metadata_filter": "-all",
   "main_language": "python",
   "notebook_metadata_filter": "-all"
  }
 },
 "nbformat": 4,
 "nbformat_minor": 5
}

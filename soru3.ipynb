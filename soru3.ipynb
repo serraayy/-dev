{
 "cells": [
  {
   "cell_type": "code",
   "execution_count": null,
   "id": "c2457bf5",
   "metadata": {},
   "outputs": [],
   "source": [
    "# Gerekli kütüphaneleri yükleyin\n",
    "import pandas as pd\n",
    "import numpy as np\n"
   ]
  },
  {
   "cell_type": "code",
   "execution_count": null,
   "id": "f9aca322",
   "metadata": {},
   "outputs": [],
   "source": [
    "# Dosya yolu tanımlama\n",
    "dosya_yolu = r\"C:\\\\Users\\\\burka\\\\OneDrive\\\\Masaüstü\\\\soru3_data (1).xlsx\"\n",
    "veri = pd.read_excel(dosya_yolu, header=None)\n"
   ]
  },
  {
   "cell_type": "code",
   "execution_count": null,
   "id": "48cb4c64",
   "metadata": {},
   "outputs": [],
   "source": [
    "# Gauss filtresi matrisi\n",
    "gauss_filtresi = np.array([[1, 2, 1],\n",
    "                           [2, 4, 2],\n",
    "                           [1, 2, 1]]) / 16\n"
   ]
  },
  {
   "cell_type": "code",
   "execution_count": null,
   "id": "06b89ec0",
   "metadata": {},
   "outputs": [],
   "source": [
    "# Veri boyutlarını al\n",
    "satir_sayisi, sutun_sayisi = veri.shape\n"
   ]
  },
  {
   "cell_type": "code",
   "execution_count": null,
   "id": "ea53fde0",
   "metadata": {},
   "outputs": [],
   "source": [
    "# Çıktı matrisini oluştur\n",
    "cikti = np.zeros((satir_sayisi - 2, sutun_sayisi - 2))\n"
   ]
  },
  {
   "cell_type": "code",
   "execution_count": null,
   "id": "71534dae",
   "metadata": {},
   "outputs": [],
   "source": [
    "# Gauss filtresini uygula\n",
    "for i in range(1, satir_sayisi - 1):\n",
    "    for j in range(1, sutun_sayisi - 1):\n",
    "        cikti[i - 1, j - 1] = np.sum(veri.iloc[i - 1:i + 2, j - 1:j + 2].values * gauss_filtresi)\n"
   ]
  },
  {
   "cell_type": "code",
   "execution_count": null,
   "id": "32378125",
   "metadata": {},
   "outputs": [],
   "source": [
    "# Çıktıyı DataFrame olarak oluştur\n",
    "cikti_df = pd.DataFrame(cikti)\n"
   ]
  },
  {
   "cell_type": "code",
   "execution_count": null,
   "id": "9b8155c8",
   "metadata": {},
   "outputs": [],
   "source": [
    "# Çıktıyı yazdır\n",
    "print(cikti_df)\n"
   ]
  }
 ],
 "metadata": {},
 "nbformat": 4,
 "nbformat_minor": 5
}

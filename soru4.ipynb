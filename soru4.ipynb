{
 "cells": [
  {
   "cell_type": "code",
   "execution_count": null,
   "id": "8c791ab9",
   "metadata": {},
   "outputs": [],
   "source": [
    "import numpy as np\n",
    "\n",
    "histogram_verisi = {\n",
    "    100: 12, 101: 18, 102: 32, 103: 48, 104: 52, 105: 65, 106: 55, 107: 42,\n",
    "    108: 32, 109: 16, 110: 10, 140: 5, 141: 4, 142: 25\n",
    "}\n",
    "\n",
    "yoğunluk_degerleri = np.array(list(histogram_verisi.keys()))\n",
    "piksel_sayilari = np.array(list(histogram_verisi.values()))\n",
    "\n",
    "T0 = 100\n",
    "esik = 1\n",
    "\n",
    "while True:\n",
    "    G1 = yoğunluk_degerleri[yoğunluk_degerleri > T0]\n",
    "    G2 = yoğunluk_degerleri[yoğunluk_degerleri <= T0]\n",
    "    m1 = np.sum(G1 * piksel_sayilari[yoğunluk_degerleri > T0]) / np.sum(piksel_sayilari[yoğunluk_degerleri > T0])\n",
    "    m2 = np.sum(G2 * piksel_sayilari[yoğunluk_degerleri <= T0]) / np.sum(piksel_sayilari[yoğunluk_degerleri <= T0])\n",
    "\n",
    "    T1 = (m1 + m2) / 2\n",
    "    \n",
    "    if abs(T1 - T0) < esik:\n",
    "        break\n",
    "    \n",
    "    T0 = T1\n",
    "print(f'Optimal eşik değeri: {T1:.2f}')\n",
    "  \n"
   ]
  }
 ],
 "metadata": {},
 "nbformat": 4,
 "nbformat_minor": 5
}

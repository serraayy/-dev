{
 "cells": [
  {
   "cell_type": "code",
   "execution_count": null,
   "id": "40d52593",
   "metadata": {},
   "outputs": [],
   "source": [
    "import numpy as np\n"
   ]
  },
  {
   "cell_type": "code",
   "execution_count": null,
   "id": "50335d57",
   "metadata": {},
   "outputs": [],
   "source": [
    "# Yoğunluk değerleri ve piksel sayıları tanımlanıyor\n",
    "yogunluk_degerleri = np.array([100, 101, 102, 103, 104, 105, 106, 107, 108, 109, 110, 140, 141, 142])\n",
    "piksel_sayilari = np.array([12, 18, 32, 48, 52, 65, 55, 42, 32, 16, 10, 5, 18, 25])\n"
   ]
  },
  {
   "cell_type": "code",
   "execution_count": null,
   "id": "acf1f948",
   "metadata": {},
   "outputs": [],
   "source": [
    "# Toplam piksel sayısı hesaplanıyor\n",
    "toplam_piksel = np.sum(piksel_sayilari)\n",
    "histogram = piksel_sayilari / toplam_piksel\n"
   ]
  },
  {
   "cell_type": "code",
   "execution_count": null,
   "id": "4e4a7ad5",
   "metadata": {},
   "outputs": [],
   "source": [
    "# Kümülatif toplam ve kümülatif ortalama hesaplanıyor\n",
    "kumulatif_toplam = np.cumsum(histogram)\n",
    "kumulatif_ortalama = np.cumsum(histogram * yogunluk_degerleri)\n"
   ]
  },
  {
   "cell_type": "code",
   "execution_count": null,
   "id": "6d710172",
   "metadata": {},
   "outputs": [],
   "source": [
    "# Global ortalama hesaplanıyor\n",
    "global_ortalama = kumulatif_ortalama[-1]\n"
   ]
  },
  {
   "cell_type": "code",
   "execution_count": null,
   "id": "57f39dfa",
   "metadata": {},
   "outputs": [],
   "source": [
    "# Sınıflar arası varyans hesaplanıyor\n",
    "siniflar_arasi_varyans = ((global_ortalama * kumulatif_toplam - kumulatif_ortalama) ** 2) / (kumulatif_toplam * (1 - kumulatif_toplam))\n"
   ]
  },
  {
   "cell_type": "code",
   "execution_count": null,
   "id": "804449f1",
   "metadata": {},
   "outputs": [],
   "source": [
    "# Optimal eşik değeri bulunuyor\n",
    "optimal_esik_indeksi = np.nanargmax(siniflar_arasi_varyans)\n",
    "optimal_esik_degeri = yogunluk_degerleri[optimal_esik_indeksi]\n"
   ]
  },
  {
   "cell_type": "code",
   "execution_count": null,
   "id": "499efa12",
   "metadata": {},
   "outputs": [],
   "source": [
    "print(\"Otsu'nun yöntemi ile optimum eşik değeri:\", optimal_esik_degeri)\n"
   ]
  }
 ],
 "metadata": {},
 "nbformat": 4,
 "nbformat_minor": 5
}

{
 "cells": [
  {
   "cell_type": "code",
   "execution_count": null,
   "id": "12eff68f",
   "metadata": {
    "lines_to_next_cell": 1
   },
   "outputs": [],
   "source": [
    "import random\n",
    "import math\n",
    "import matplotlib.pyplot as plt"
   ]
  },
  {
   "cell_type": "code",
   "execution_count": null,
   "id": "072a048f",
   "metadata": {},
   "outputs": [],
   "source": [
    "def atış_hesaplaması():\n",
    "    \n",
    "    hedef_konumu = 20000 + 200 * random.randint(-10, 10)\n",
    "    genislik_baslangic = hedef_konumu\n",
    "    genislik_bitis = hedef_konumu + 1000 + 100 * random.randint(-2, 2)\n",
    "    hedefi_vurdu = False\n",
    "    hedefin_onune_dustu = None\n",
    "    \n",
    "    top_konumu = [0, 19]\n",
    "\n",
    "    alt_sinir = 330\n",
    "    ust_sinir = 1800\n",
    "    hiz = (alt_sinir + ust_sinir) / 2\n",
    "\n",
    "    atis_sayisi = 0\n",
    "    atis_sonuclari = []\n",
    "\n",
    "    while not hedefi_vurdu:\n",
    "        \n",
    "        atis_sayisi += 1\n",
    "\n",
    "        vx = hiz * math.cos(math.radians(30))\n",
    "        vy = hiz * math.sin(math.radians(30))\n",
    "\n",
    "       \n",
    "        t_çıkış = vy / 9.8\n",
    "        t_iniş = math.sqrt(vy**2 + 2 * 9.8 * 19) / 9.8\n",
    "        t_air = t_çıkış+ t_iniş\n",
    "        y_distance = vy * t_iniş\n",
    "\n",
    "        \n",
    "        if y_distance < hedef_konumu:\n",
    "            hedefin_onune_dustu = True\n",
    "            alt_sinir = hiz\n",
    "        elif y_distance > hedef_konumu:\n",
    "            hedefin_onune_dustu = False\n",
    "            ust_sinir = hiz\n",
    "\n",
    "        hiz = (alt_sinir + ust_sinir) / 2\n",
    "\n",
    "        atis_sonuclari.append((atis_sayisi, y_distance))\n",
    "\n",
    "      \n",
    "        if abs(y_distance - hedef_konumu) <= 1:\n",
    "            hedefi_vurdu = True\n",
    "\n",
    "        print(f\"Atış {atis_sayisi}: Top {'önüne' if hedefin_onune_dustu else 'arkasına'} düştü\")\n",
    "\n",
    "    atis_no, y_duzlemi = zip(*atis_sonuclari)\n",
    "    plt.plot(atis_no, y_duzlemi, marker='o', linestyle='-')\n",
    "    plt.axhline(y=hedef_konumu, color='r', linestyle='--', label='Hedef Konumu')\n",
    "    plt.xlabel('Atış Sayısı')\n",
    "    plt.ylabel('Y Düşey Mesafe (m)')\n",
    "    plt.title('Atışların Y Düşey Mesafesi')\n",
    "    plt.legend()\n",
    "    plt.grid(True)\n",
    "    plt.show()\n",
    "    \n",
    "    print(f\"Hedef {atis_sayisi}. atışta vuruldu\")\n",
    "    print(f\"Son hız: {hiz} m/s\")"
   ]
  },
  {
   "cell_type": "code",
   "execution_count": null,
   "id": "ddb3f96d",
   "metadata": {},
   "outputs": [],
   "source": [
    "atış_hesaplaması()"
   ]
  }
 ],
 "metadata": {
  "jupytext": {
   "cell_metadata_filter": "-all",
   "main_language": "python",
   "notebook_metadata_filter": "-all"
  }
 },
 "nbformat": 4,
 "nbformat_minor": 5
}
